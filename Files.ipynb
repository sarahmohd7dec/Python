{
  "nbformat": 4,
  "nbformat_minor": 0,
  "metadata": {
    "colab": {
      "provenance": [],
      "authorship_tag": "ABX9TyNqOg/IdqGvSYzoiQdFt5s+",
      "include_colab_link": true
    },
    "kernelspec": {
      "name": "python3",
      "display_name": "Python 3"
    },
    "language_info": {
      "name": "python"
    }
  },
  "cells": [
    {
      "cell_type": "markdown",
      "metadata": {
        "id": "view-in-github",
        "colab_type": "text"
      },
      "source": [
        "<a href=\"https://colab.research.google.com/github/sarahmohd7dec/Python/blob/main/Files.ipynb\" target=\"_parent\"><img src=\"https://colab.research.google.com/assets/colab-badge.svg\" alt=\"Open In Colab\"/></a>"
      ]
    },
    {
      "cell_type": "code",
      "source": [
        "open('mytxt.txt', 'w').close()"
      ],
      "metadata": {
        "id": "hylSb7OOKSaj"
      },
      "execution_count": null,
      "outputs": []
    },
    {
      "cell_type": "code",
      "execution_count": null,
      "metadata": {
        "id": "AVhDj63aoqI7"
      },
      "outputs": [],
      "source": [
        "#Q1 Create a text file called mytxt.txt\n",
        "\n",
        "# \"In this section, we will use Python's built-in open function to create a file\n",
        "# and obtain the data from a \"txt\" file.\n",
        "# We will use Python's open function to get a file object.\n",
        "# We can apply a method to that object to read data from the file.\n",
        "# The first argument is the file path, the second parameter is the mode.\"\n",
        "\n",
        "lines=[\"In this section, we will use Python's built-in open function to create a file and obtain the data from a txt file\",\n",
        "       \"We will use Python's open function to get a file object\",\n",
        "       \" We can apply a method to that object to read data from the file\",\n",
        "        \"The first argument is the file path, the second parameter is the mode.\"]\n",
        "with open('mytxt.txt', 'w') as handle:\n",
        " handle.write(\"\\n\".join(lines))"
      ]
    },
    {
      "cell_type": "code",
      "source": [
        "#Q1 Write a Python program to read the entire mytxt file\n",
        "with open(\"mytxt.txt\",\"r\") as handle:\n",
        " for contents in handle.readlines():\n",
        "  print(contents,end=\"\")\n"
      ],
      "metadata": {
        "colab": {
          "base_uri": "https://localhost:8080/"
        },
        "id": "66xBikXbHLPJ",
        "outputId": "ddf3a325-7ffe-45a2-e6b5-1cc12e94d773"
      },
      "execution_count": null,
      "outputs": [
        {
          "output_type": "stream",
          "name": "stdout",
          "text": [
            "In this section, we will use Python's built-in open function to create a file and obtain the data from a txt file\n",
            "We will use Python's open function to get a file object\n",
            " We can apply a method to that object to read data from the file\n",
            "The first argument is the file path, the second parameter is the mode."
          ]
        }
      ]
    },
    {
      "cell_type": "code",
      "source": [
        "#Q2 Write a Python program to read last 3 lines of mytxt file\n",
        "with open(\"mytxt.txt\",\"r\") as handle:\n",
        " for line in (handle.readlines()[-3:]):\n",
        "   print(line, end=\"\")\n"
      ],
      "metadata": {
        "colab": {
          "base_uri": "https://localhost:8080/"
        },
        "id": "YDLzpfx-sTK4",
        "outputId": "858bd8a8-cdcc-4386-f0a8-cdbd0586ee60"
      },
      "execution_count": null,
      "outputs": [
        {
          "output_type": "stream",
          "name": "stdout",
          "text": [
            "We will use Python's open function to get a file object\n",
            " We can apply a method to that object to read data from the file\n",
            "The first argument is the file path, the second parameter is the mode."
          ]
        }
      ]
    },
    {
      "cell_type": "code",
      "source": [
        "#Q3 Write a Python program to read last n lines of mytxt file\n",
        "#[Hint: write a function]\n",
        "\n",
        "def read(N):\n",
        "  with open(\"mytxt.txt\",\"r\")as handle:\n",
        "    for line in (handle.readlines())[-N:]:\n",
        "      print(line,end=\"\")\n",
        "N=int(input(\"Enter the No.of last lines you want to display!\"))\n",
        "read(N)\n"
      ],
      "metadata": {
        "colab": {
          "base_uri": "https://localhost:8080/"
        },
        "id": "NbgmQ_Meunt4",
        "outputId": "cb67b74b-8942-4f11-c8a7-19da45a952bd"
      },
      "execution_count": null,
      "outputs": [
        {
          "output_type": "stream",
          "name": "stdout",
          "text": [
            "Enter the No.of last lines you want to display!2\n",
            " We can apply a method to that object to read data from the file\n",
            "The first argument is the file path, the second parameter is the mode."
          ]
        }
      ]
    },
    {
      "cell_type": "code",
      "source": [
        "#Q4 count the number of lines in mytxt file\n",
        "with open(\"mytxt.txt\",\"r\")as handle:\n",
        "  for count,line in enumerate(handle):\n",
        "   pass\n",
        "print(count+1)\n"
      ],
      "metadata": {
        "colab": {
          "base_uri": "https://localhost:8080/"
        },
        "id": "-GRXfyn7M8Rn",
        "outputId": "92ccf52d-f2b1-46f6-a564-95637ce7f680"
      },
      "execution_count": null,
      "outputs": [
        {
          "output_type": "stream",
          "name": "stdout",
          "text": [
            "4\n"
          ]
        }
      ]
    },
    {
      "cell_type": "code",
      "source": [
        "#Q5 Write a Python program to generate 26 text files named A.txt, B.txt,... Z.txt\n",
        "import string\n",
        "for letter in string.ascii_uppercase:\n",
        "   with open(letter + \".txt\", \"w\") as f:\n",
        "       f.writelines(letter)\n"
      ],
      "metadata": {
        "id": "VZ8qfdWHOKuA"
      },
      "execution_count": null,
      "outputs": []
    },
    {
      "cell_type": "code",
      "source": [
        "#Q6 Write a Python program to append \"End of file\" to mytxt file and\n",
        "# display the text\n",
        "with open(\"mytxt.txt\",\"a+\") as handle:\n",
        "  handle.write(\"End of file\")\n"
      ],
      "metadata": {
        "id": "1nBkVssoRBP6"
      },
      "execution_count": null,
      "outputs": []
    },
    {
      "cell_type": "code",
      "source": [
        "with open(\"mytxt.txt\",\"r\")as handle:\n",
        "\n",
        "\n",
        " for line in (handle.readlines())[-1:]:\n",
        "     print(line, end=\"\")"
      ],
      "metadata": {
        "colab": {
          "base_uri": "https://localhost:8080/"
        },
        "id": "Dm0z2MPAR1Wp",
        "outputId": "b1999821-51e9-4a52-cf77-8d48a5ebca42"
      },
      "execution_count": null,
      "outputs": [
        {
          "output_type": "stream",
          "name": "stdout",
          "text": [
            "End of file"
          ]
        }
      ]
    },
    {
      "cell_type": "code",
      "source": [
        "#Q7 Write a Python program to remove newline characters from mytxt file\n",
        "with open(\"mytxt.txt\", 'r') as filedata:\n",
        "\n",
        "   # Reading the file lines using readlines()\n",
        "   linesList= filedata.readlines()\n",
        "\n",
        "   # Removing the new line character(\\n) from the list of lines\n",
        "   print([k.rstrip('\\n') for k in linesList])\n",
        "\n",
        "# Closing the input file\n",
        "filedata.close()"
      ],
      "metadata": {
        "colab": {
          "base_uri": "https://localhost:8080/"
        },
        "id": "uUug-PPYTgfi",
        "outputId": "4600a526-ceee-47bb-9ed0-bb2abcd839ef"
      },
      "execution_count": null,
      "outputs": [
        {
          "output_type": "stream",
          "name": "stdout",
          "text": [
            "[\"In this section, we will use Python's built-in open function to create a file and obtain the data from a txt file\", \"We will use Python's open function to get a file object\", ' We can apply a method to that object to read data from the file', 'The first argument is the file path, the second parameter is the mode.E', 'End of file']\n"
          ]
        }
      ]
    },
    {
      "cell_type": "code",
      "source": [
        "# Q8 Write a python program to find the longest word in mytxt file\n",
        "def longest_word(filename):\n",
        "    with open(\"mytxt.txt\", 'r') as infile:\n",
        "              words = infile.read().split()\n",
        "    max_len = len(max(words, key=len))\n",
        "    return [word for word in words if len(word) == max_len]\n",
        "\n",
        "print(longest_word('mytxt.txt'))\n"
      ],
      "metadata": {
        "colab": {
          "base_uri": "https://localhost:8080/"
        },
        "id": "uTz7mhuoUoPl",
        "outputId": "0fa723c4-f88a-47a8-cc04-8b6a446078d1"
      },
      "execution_count": null,
      "outputs": [
        {
          "output_type": "stream",
          "name": "stdout",
          "text": [
            "['parameter']\n"
          ]
        }
      ]
    },
    {
      "cell_type": "code",
      "source": [
        "#Write a Python program to count the frequency \"We\" in mytxt file\n",
        "from collections import Counter\n",
        "\n",
        "with open(\"mytxt.txt\") as f:\n",
        "  for word in f.read().split():\n",
        "    if word not in wordcount:\n",
        "        wordcount[word] = 1\n",
        "    else:\n",
        "        wordcount[word] += 1\n",
        "\n",
        "for k,v in wordcount.items():\n",
        "    print k, v\n",
        "  return Counter(f.read().split())\n",
        "\n",
        "print(\"Number of words in the file :\",word_count(\"mytxt.txt\"))\n",
        "\n",
        "word_count(\"We\")\n",
        "\n"
      ],
      "metadata": {
        "id": "PY-qrEt9V3Su",
        "colab": {
          "base_uri": "https://localhost:8080/"
        },
        "outputId": "5c3de252-4079-4908-842a-2833628835da"
      },
      "execution_count": null,
      "outputs": [
        {
          "output_type": "stream",
          "name": "stdout",
          "text": [
            "Number of words in the file : Counter({'file': 5, 'the': 5, 'to': 4, 'a': 4, 'will': 2, 'use': 2, \"Python's\": 2, 'open': 2, 'function': 2, 'data': 2, 'from': 2, 'We': 2, 'object': 2, 'is': 2, 'In': 1, 'this': 1, 'section,': 1, 'we': 1, 'built-in': 1, 'create': 1, 'and': 1, 'obtain': 1, 'txt': 1, 'get': 1, 'can': 1, 'apply': 1, 'method': 1, 'that': 1, 'read': 1, 'The': 1, 'first': 1, 'argument': 1, 'path,': 1, 'second': 1, 'parameter': 1, 'mode.': 1})\n"
          ]
        },
        {
          "output_type": "execute_result",
          "data": {
            "text/plain": [
              "Counter({'In': 1,\n",
              "         'this': 1,\n",
              "         'section,': 1,\n",
              "         'we': 1,\n",
              "         'will': 2,\n",
              "         'use': 2,\n",
              "         \"Python's\": 2,\n",
              "         'built-in': 1,\n",
              "         'open': 2,\n",
              "         'function': 2,\n",
              "         'to': 4,\n",
              "         'create': 1,\n",
              "         'a': 4,\n",
              "         'file': 5,\n",
              "         'and': 1,\n",
              "         'obtain': 1,\n",
              "         'the': 5,\n",
              "         'data': 2,\n",
              "         'from': 2,\n",
              "         'txt': 1,\n",
              "         'We': 2,\n",
              "         'get': 1,\n",
              "         'object': 2,\n",
              "         'can': 1,\n",
              "         'apply': 1,\n",
              "         'method': 1,\n",
              "         'that': 1,\n",
              "         'read': 1,\n",
              "         'The': 1,\n",
              "         'first': 1,\n",
              "         'argument': 1,\n",
              "         'is': 2,\n",
              "         'path,': 1,\n",
              "         'second': 1,\n",
              "         'parameter': 1,\n",
              "         'mode.': 1})"
            ]
          },
          "metadata": {},
          "execution_count": 5
        }
      ]
    },
    {
      "cell_type": "code",
      "source": [],
      "metadata": {
        "id": "pZKPT4JtCoPB"
      },
      "execution_count": null,
      "outputs": []
    }
  ]
}