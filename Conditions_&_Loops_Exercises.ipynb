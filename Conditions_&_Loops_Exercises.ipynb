{
  "cells": [
    {
      "cell_type": "markdown",
      "metadata": {
        "id": "view-in-github",
        "colab_type": "text"
      },
      "source": [
        "<a href=\"https://colab.research.google.com/github/sarahmohd7dec/Python/blob/main/Conditions_%26_Loops_Exercises.ipynb\" target=\"_parent\"><img src=\"https://colab.research.google.com/assets/colab-badge.svg\" alt=\"Open In Colab\"/></a>"
      ]
    },
    {
      "cell_type": "markdown",
      "metadata": {
        "id": "k9HZ44yh9DvE"
      },
      "source": [
        "# Conditions & Loops Exercises"
      ]
    },
    {
      "cell_type": "code",
      "execution_count": null,
      "metadata": {
        "colab": {
          "base_uri": "https://localhost:8080/"
        },
        "id": "3-rwjqA39DvH",
        "outputId": "933d284f-3167-41c8-9de6-347cdee4f755"
      },
      "outputs": [
        {
          "output_type": "stream",
          "name": "stdout",
          "text": [
            "The sum is 70\n"
          ]
        }
      ],
      "source": [
        "#Q1 Given two integer numbers.\n",
        "#If any of the numbers are greater than 50 return their product,\n",
        "#else return their sum\n",
        "number1= 20\n",
        "number2= 50\n",
        "if number1>50 or number2>50:\n",
        "  print(\"The product is\",number1*number2)\n",
        "else:\n",
        "  print(\"The sum is\",number1+number2)"
      ]
    },
    {
      "cell_type": "code",
      "execution_count": null,
      "metadata": {
        "colab": {
          "base_uri": "https://localhost:8080/"
        },
        "id": "u-DOK4Sj9DvI",
        "outputId": "cc0a38f5-04e5-4f8e-fe7e-1e39160513e6"
      },
      "outputs": [
        {
          "output_type": "stream",
          "name": "stdout",
          "text": [
            "True\n"
          ]
        }
      ],
      "source": [
        "#Q2 Given a list of numbers,\n",
        "#return True if first and last number of a list is same\n",
        "list=[1,2,5,4,1]\n",
        "if list[0]==list[-1]:\n",
        "  print(True)"
      ]
    },
    {
      "cell_type": "code",
      "execution_count": null,
      "metadata": {
        "colab": {
          "base_uri": "https://localhost:8080/"
        },
        "id": "7K1G6Cp29DvJ",
        "outputId": "5694aa83-e58a-495d-ecd7-b99f6ba5560d"
      },
      "outputs": [
        {
          "output_type": "stream",
          "name": "stdout",
          "text": [
            "1\n",
            "3\n",
            "5\n",
            "7\n",
            "9\n",
            "11\n",
            "13\n",
            "15\n",
            "17\n"
          ]
        }
      ],
      "source": [
        "#Q3 Given a range of the first 10 numbers[1:10],\n",
        "#Iterate from the start number to the end number,\n",
        "#and In each iteration print the sum of the current number and previous number\n",
        "for i in range(1,10):\n",
        "  print(i+(i-1))"
      ]
    },
    {
      "cell_type": "code",
      "execution_count": null,
      "metadata": {
        "colab": {
          "base_uri": "https://localhost:8080/"
        },
        "id": "QrHwzW7N9DvJ",
        "outputId": "d59a3e05-437c-4f19-a28c-1e9fc8a6ae8c"
      },
      "outputs": [
        {
          "output_type": "stream",
          "name": "stdout",
          "text": [
            "N\n",
            "o\n",
            "e\n",
            "C\n",
            "n\n",
            "d\n"
          ]
        }
      ],
      "source": [
        "#Q4 Given a string name,\n",
        "#display only those characters which are present at an even index number\n",
        "name=\"NPowerCanada\"\n",
        "for n in name:\n",
        "  if(name.index(n)%2==0):\n",
        "    print(n)\n"
      ]
    },
    {
      "cell_type": "code",
      "execution_count": null,
      "metadata": {
        "colab": {
          "base_uri": "https://localhost:8080/"
        },
        "id": "wNMoSg849DvJ",
        "outputId": "b421a595-7d5f-4186-a3b7-04f8aa31d875"
      },
      "outputs": [
        {
          "output_type": "stream",
          "name": "stdout",
          "text": [
            "Resultant String: Course\n"
          ]
        }
      ],
      "source": [
        "from typing_extensions import NewType\n",
        "#Q5 Given a string oldString and an integer number n,\n",
        "#remove characters from a string starting from zero up to n\n",
        "#and return a newString\n",
        "oldString=\"PythonCourse\"\n",
        "n=6\n",
        "res=\"\"\n",
        "for i in range(0, len(oldString)):\n",
        "    if i >= n:\n",
        "        res = res +oldString[i]\n",
        "\n",
        "# Printing resultant string\n",
        "print(\"Resultant String:\", res)\n",
        "\n",
        "#oldString[6:]\n",
        "\n",
        "\n"
      ]
    },
    {
      "cell_type": "code",
      "execution_count": null,
      "metadata": {
        "colab": {
          "base_uri": "https://localhost:8080/"
        },
        "id": "xwNu2lOm9DvK",
        "outputId": "eb1fc885-a5ed-4801-f629-f7d182685ed6"
      },
      "outputs": [
        {
          "output_type": "stream",
          "name": "stdout",
          "text": [
            "\n",
            "*\n",
            "**\n",
            "***\n",
            "****\n"
          ]
        }
      ],
      "source": [
        "#Q6 Print the follwoing pattern\n",
        "\n",
        "#*\n",
        "#**\n",
        "#***\n",
        "#****\n",
        "\n",
        "for y in range(0,5):\n",
        "    print(\"*\"*y)"
      ]
    },
    {
      "cell_type": "code",
      "execution_count": null,
      "metadata": {
        "colab": {
          "base_uri": "https://localhost:8080/"
        },
        "id": "Wc35_hfV9DvK",
        "outputId": "6d74a445-0946-45ea-a3be-0eb45c04634d"
      },
      "outputs": [
        {
          "output_type": "execute_result",
          "data": {
            "text/plain": [
              "[60, 50, 70, 90]"
            ]
          },
          "metadata": {},
          "execution_count": 11
        }
      ],
      "source": [
        "#Q7 Reverse the following list using for loop\n",
        "list1=[90,70,50,60]\n",
        "list1[::-1]"
      ]
    },
    {
      "cell_type": "code",
      "execution_count": null,
      "metadata": {
        "colab": {
          "base_uri": "https://localhost:8080/"
        },
        "id": "v2mo2r8C9DvL",
        "outputId": "f5a8aa47-4075-4a42-f30a-2ff268c5f480"
      },
      "outputs": [
        {
          "output_type": "stream",
          "name": "stdout",
          "text": [
            "-10\n",
            "-9\n",
            "-8\n",
            "-7\n",
            "-6\n",
            "-5\n",
            "-4\n",
            "-3\n",
            "-2\n"
          ]
        }
      ],
      "source": [
        "#Q8 Display numbers from -10 to -1 using for loop\n",
        "#[hint use range method]\n",
        "for x in range(-10,-1):\n",
        "  print(x)"
      ]
    },
    {
      "cell_type": "code",
      "source": [],
      "metadata": {
        "id": "x2G5C6dCEWlP"
      },
      "execution_count": null,
      "outputs": []
    }
  ],
  "metadata": {
    "kernelspec": {
      "display_name": "Python 3 (ipykernel)",
      "language": "python",
      "name": "python3"
    },
    "language_info": {
      "codemirror_mode": {
        "name": "ipython",
        "version": 3
      },
      "file_extension": ".py",
      "mimetype": "text/x-python",
      "name": "python",
      "nbconvert_exporter": "python",
      "pygments_lexer": "ipython3",
      "version": "3.9.12"
    },
    "colab": {
      "provenance": [],
      "include_colab_link": true
    }
  },
  "nbformat": 4,
  "nbformat_minor": 0
}