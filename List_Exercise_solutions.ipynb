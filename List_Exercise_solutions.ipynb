{
 "cells": [
  {
   "cell_type": "code",
   "execution_count": 1,
   "id": "c26f944f",
   "metadata": {},
   "outputs": [
    {
     "data": {
      "text/plain": [
       "('Abdul Wahid Khudayar',\n",
       " 'Addy Rose',\n",
       " 'Anuoluwapo Oluseyi',\n",
       " 'Aravindh Kuppusamy Haridoss',\n",
       " 'Carlo Halnin',\n",
       " 'Juned Chhiboo',\n",
       " 'Cici Ann Joji',\n",
       " 'DHRUVKUMAR PATEL',\n",
       " 'Erkan Kumesogut',\n",
       " 'Exaltacao Rodrigues',\n",
       " 'fatma tuncalan',\n",
       " 'harpreet kaur',\n",
       " 'Harun Omar-Godane',\n",
       " 'Hossain Ghahraloud',\n",
       " 'Jesso Thomas',\n",
       " 'Kamiar Mehmannavazan',\n",
       " 'Karthik Sai',\n",
       " 'Kwabena Gyasi-Boateng',\n",
       " 'L Reetika',\n",
       " 'mariya amtullah',\n",
       " 'Marwa Musa',\n",
       " 'Meelad Armani',\n",
       " 'Miguel Diaz',\n",
       " 'Mohammad Dabbour',\n",
       " 'Pouria Raziei',\n",
       " 'Reena Thakur',\n",
       " 'Robin Francis Thomas',\n",
       " 'Rohan Thomas',\n",
       " 'Ronit Soni',\n",
       " 'Sameeha Bala',\n",
       " 'Supriya Kanda',\n",
       " 'Weslie Chung',\n",
       " 'Ying Fei Li',\n",
       " 'Poojan Modi',\n",
       " 'Alexander Hailu',\n",
       " 'Ekaterina Shalygina',\n",
       " 'Nevin Tomy',\n",
       " 'Jason Huang',\n",
       " 'Anindita',\n",
       " 'Vrunda Patel',\n",
       " 'Sravan Pingali')"
      ]
     },
     "execution_count": 1,
     "metadata": {},
     "output_type": "execute_result"
    }
   ],
   "source": [
    "#Q1 Create a tuple with all participant names in the JDA program\n",
    "Tuple1 = (\"Abdul Wahid Khudayar\",\n",
    "\"Addy Rose\",\n",
    "\"Anuoluwapo Oluseyi\",\n",
    "\"Aravindh Kuppusamy Haridoss\",\n",
    "\"Carlo Halnin\",\n",
    "\"Juned Chhiboo\",\n",
    "\"Cici Ann Joji\",\n",
    "\"DHRUVKUMAR PATEL\",\n",
    "\"Erkan Kumesogut\",\n",
    "\"Exaltacao Rodrigues\",\n",
    "\"fatma tuncalan\",\n",
    "\"harpreet kaur\",\n",
    "\"Harun Omar-Godane\",\n",
    "\"Hossain Ghahraloud\",\n",
    "\"Jesso Thomas\",\n",
    "\"Kamiar Mehmannavazan\",\n",
    "\"Karthik Sai\",\n",
    "\"Kwabena Gyasi-Boateng\",\n",
    "\"L Reetika\",\n",
    "\"mariya amtullah\",\n",
    "\"Marwa Musa\",\n",
    "\"Meelad Armani\",\n",
    "\"Miguel Diaz\",\n",
    "\"Mohammad Dabbour\",\n",
    "\"Pouria Raziei\",\n",
    "\"Reena Thakur\",\n",
    "\"Robin Francis Thomas\",\n",
    "\"Rohan Thomas\",\n",
    "\"Ronit Soni\",\n",
    "\"Sameeha Bala\",\n",
    "\"Supriya Kanda\",\n",
    "\"Weslie Chung\",\n",
    "\"Ying Fei Li\",\n",
    "\"Poojan Modi\",\n",
    "\"Alexander Hailu\",\n",
    "\"Ekaterina Shalygina\",\n",
    "\"Nevin Tomy\",\n",
    "\"Jason Huang\",\n",
    "\"Anindita\",\n",
    "\"Vrunda Patel\",\n",
    "\"Sravan Pingali\")\n",
    "Tuple1"
   ]
  },
  {
   "cell_type": "code",
   "execution_count": 2,
   "id": "7e85c95e",
   "metadata": {},
   "outputs": [
    {
     "data": {
      "text/plain": [
       "['Abdul Wahid Khudayar',\n",
       " 'Addy Rose',\n",
       " 'Anuoluwapo Oluseyi',\n",
       " 'Aravindh Kuppusamy Haridoss',\n",
       " 'Carlo Halnin',\n",
       " 'Juned Chhiboo',\n",
       " 'Cici Ann Joji',\n",
       " 'DHRUVKUMAR PATEL',\n",
       " 'Erkan Kumesogut',\n",
       " 'Exaltacao Rodrigues',\n",
       " 'fatma tuncalan',\n",
       " 'harpreet kaur',\n",
       " 'Harun Omar-Godane',\n",
       " 'Hossain Ghahraloud',\n",
       " 'Jesso Thomas',\n",
       " 'Kamiar Mehmannavazan',\n",
       " 'Karthik Sai',\n",
       " 'Kwabena Gyasi-Boateng',\n",
       " 'L Reetika',\n",
       " 'mariya amtullah',\n",
       " 'Marwa Musa',\n",
       " 'Meelad Armani',\n",
       " 'Miguel Diaz',\n",
       " 'Mohammad Dabbour',\n",
       " 'Pouria Raziei',\n",
       " 'Reena Thakur',\n",
       " 'Robin Francis Thomas',\n",
       " 'Rohan Thomas',\n",
       " 'Ronit Soni',\n",
       " 'Sameeha Bala',\n",
       " 'Supriya Kanda',\n",
       " 'Weslie Chung',\n",
       " 'Ying Fei Li',\n",
       " 'Poojan Modi',\n",
       " 'Alexander Hailu',\n",
       " 'Ekaterina Shalygina',\n",
       " 'Nevin Tomy',\n",
       " 'Jason Huang',\n",
       " 'Anindita',\n",
       " 'Vrunda Patel',\n",
       " 'Sravan Pingali']"
      ]
     },
     "execution_count": 2,
     "metadata": {},
     "output_type": "execute_result"
    }
   ],
   "source": [
    "#Q2 Convert the tuple into a list called pps_L\n",
    "pps_L = list(Tuple1)\n",
    "pps_L"
   ]
  },
  {
   "cell_type": "code",
   "execution_count": 3,
   "id": "e519d80f",
   "metadata": {},
   "outputs": [
    {
     "data": {
      "text/plain": [
       "41"
      ]
     },
     "execution_count": 3,
     "metadata": {},
     "output_type": "execute_result"
    }
   ],
   "source": [
    "#Q3 What is the length of your list\n",
    "len(pps_L)"
   ]
  },
  {
   "cell_type": "code",
   "execution_count": 4,
   "id": "b2d4bc93",
   "metadata": {},
   "outputs": [
    {
     "name": "stdout",
     "output_type": "stream",
     "text": [
      "Aravindh Kuppusamy Haridoss\n",
      "Juned Chhiboo\n",
      "Jesso Thomas\n",
      "Supriya Kanda\n",
      "Anindita\n"
     ]
    }
   ],
   "source": [
    "#Q4 Find the values stored in indexes [3],[5],[14],[30],[38]\n",
    "print(pps_L[3])\n",
    "print(pps_L[5])\n",
    "print(pps_L[14])\n",
    "print(pps_L[30])\n",
    "print(pps_L[38])"
   ]
  },
  {
   "cell_type": "code",
   "execution_count": 5,
   "id": "89fbb16a",
   "metadata": {},
   "outputs": [
    {
     "data": {
      "text/plain": [
       "False"
      ]
     },
     "execution_count": 5,
     "metadata": {},
     "output_type": "execute_result"
    }
   ],
   "source": [
    "#Q5 Check if \"Sarah\" is in the list\n",
    "\"Sarah\" in pps_L"
   ]
  },
  {
   "cell_type": "code",
   "execution_count": 6,
   "id": "e342d64d",
   "metadata": {},
   "outputs": [
    {
     "data": {
      "text/plain": [
       "['Abdul Wahid Khudayar',\n",
       " 'Addy Rose',\n",
       " 'Anuoluwapo Oluseyi',\n",
       " 'Aravindh Kuppusamy Haridoss',\n",
       " 'Carlo Halnin',\n",
       " 'Juned Chhiboo',\n",
       " 'Cici Ann Joji',\n",
       " 'DHRUVKUMAR PATEL',\n",
       " 'Erkan Kumesogut',\n",
       " 'Exaltacao Rodrigues',\n",
       " 'fatma tuncalan',\n",
       " 'harpreet kaur',\n",
       " 'Harun Omar-Godane',\n",
       " 'Hossain Ghahraloud',\n",
       " 'Jesso Thomas',\n",
       " 'Kamiar Mehmannavazan',\n",
       " 'Karthik Sai',\n",
       " 'Kwabena Gyasi-Boateng',\n",
       " 'L Reetika',\n",
       " 'mariya amtullah',\n",
       " 'Marwa Musa',\n",
       " 'Meelad Armani',\n",
       " 'Miguel Diaz',\n",
       " 'Mohammad Dabbour',\n",
       " 'Pouria Raziei',\n",
       " 'Reena Thakur',\n",
       " 'Robin Francis Thomas',\n",
       " 'Rohan Thomas',\n",
       " 'Ronit Soni',\n",
       " 'Sameeha Bala',\n",
       " 'Supriya Kanda',\n",
       " 'Weslie Chung',\n",
       " 'Ying Fei Li',\n",
       " 'Poojan Modi',\n",
       " 'Alexander Hailu',\n",
       " 'Ekaterina Shalygina',\n",
       " 'Nevin Tomy',\n",
       " 'Jason Huang',\n",
       " 'Anindita',\n",
       " 'Vrunda Patel',\n",
       " 'Sravan Pingali',\n",
       " 'Sarah']"
      ]
     },
     "execution_count": 6,
     "metadata": {},
     "output_type": "execute_result"
    }
   ],
   "source": [
    "#Q6 Add \"Sarah\" to your list\n",
    "pps_L.append(\"Sarah\")\n",
    "pps_L"
   ]
  },
  {
   "cell_type": "code",
   "execution_count": 7,
   "id": "7a114b00",
   "metadata": {},
   "outputs": [
    {
     "data": {
      "text/plain": [
       "False"
      ]
     },
     "execution_count": 7,
     "metadata": {},
     "output_type": "execute_result"
    }
   ],
   "source": [
    "#Q7 Check if \"Bashir\" is in the list\n",
    "\"Bashir\" in pps_L"
   ]
  },
  {
   "cell_type": "code",
   "execution_count": 8,
   "id": "83499a19",
   "metadata": {},
   "outputs": [
    {
     "data": {
      "text/plain": [
       "['Abdul Wahid Khudayar',\n",
       " 'Addy Rose',\n",
       " 'Anuoluwapo Oluseyi',\n",
       " 'Aravindh Kuppusamy Haridoss',\n",
       " 'Carlo Halnin',\n",
       " 'Juned Chhiboo',\n",
       " 'Cici Ann Joji',\n",
       " 'DHRUVKUMAR PATEL',\n",
       " 'Erkan Kumesogut',\n",
       " 'Exaltacao Rodrigues',\n",
       " 'fatma tuncalan',\n",
       " 'harpreet kaur',\n",
       " 'Harun Omar-Godane',\n",
       " 'Hossain Ghahraloud',\n",
       " 'Jesso Thomas',\n",
       " 'Kamiar Mehmannavazan',\n",
       " 'Karthik Sai',\n",
       " 'Kwabena Gyasi-Boateng',\n",
       " 'L Reetika',\n",
       " 'mariya amtullah',\n",
       " 'Marwa Musa',\n",
       " 'Meelad Armani',\n",
       " 'Miguel Diaz',\n",
       " 'Mohammad Dabbour',\n",
       " 'Pouria Raziei',\n",
       " 'Reena Thakur',\n",
       " 'Robin Francis Thomas',\n",
       " 'Rohan Thomas',\n",
       " 'Ronit Soni',\n",
       " 'Sameeha Bala',\n",
       " 'Supriya Kanda',\n",
       " 'Weslie Chung',\n",
       " 'Ying Fei Li',\n",
       " 'Poojan Modi',\n",
       " 'Alexander Hailu',\n",
       " 'Ekaterina Shalygina',\n",
       " 'Nevin Tomy',\n",
       " 'Jason Huang',\n",
       " 'Anindita',\n",
       " 'Vrunda Patel',\n",
       " 'Sravan Pingali',\n",
       " 'Sarah',\n",
       " 'Bashir']"
      ]
     },
     "execution_count": 8,
     "metadata": {},
     "output_type": "execute_result"
    }
   ],
   "source": [
    "#Q9 Add \"Bashir\" to your list\n",
    "pps_L.append(\"Bashir\")\n",
    "pps_L"
   ]
  },
  {
   "cell_type": "code",
   "execution_count": 9,
   "id": "39b3e8ce",
   "metadata": {},
   "outputs": [
    {
     "data": {
      "text/plain": [
       "41"
      ]
     },
     "execution_count": 9,
     "metadata": {},
     "output_type": "execute_result"
    }
   ],
   "source": [
    "#Q10 Find the index of the element \"Sarah\" in the list\n",
    "pps_L.index(\"Sarah\")"
   ]
  },
  {
   "cell_type": "code",
   "execution_count": 10,
   "id": "4bc677d7",
   "metadata": {},
   "outputs": [
    {
     "name": "stdout",
     "output_type": "stream",
     "text": [
      "True\n"
     ]
    },
    {
     "data": {
      "text/plain": [
       "41"
      ]
     },
     "execution_count": 10,
     "metadata": {},
     "output_type": "execute_result"
    }
   ],
   "source": [
    "#Q11 Change the value of the index in Q10 from \"Sarah\" to \"Instructor\"\n",
    "pps_L[41]=\"Instructor\"\n",
    "print(\"Instructor\" in pps_L)\n",
    "pps_L.index(\"Instructor\")"
   ]
  },
  {
   "cell_type": "code",
   "execution_count": 11,
   "id": "9f3d823d",
   "metadata": {},
   "outputs": [
    {
     "data": {
      "text/plain": [
       "42"
      ]
     },
     "execution_count": 11,
     "metadata": {},
     "output_type": "execute_result"
    }
   ],
   "source": [
    "#Q12 Find the index of the element \"Bashir\" in the list\n",
    "pps_L.index(\"Bashir\")"
   ]
  },
  {
   "cell_type": "code",
   "execution_count": 12,
   "id": "0d897613",
   "metadata": {},
   "outputs": [
    {
     "name": "stdout",
     "output_type": "stream",
     "text": [
      "True\n"
     ]
    },
    {
     "data": {
      "text/plain": [
       "42"
      ]
     },
     "execution_count": 12,
     "metadata": {},
     "output_type": "execute_result"
    }
   ],
   "source": [
    "#Q13 Change the value of the index in Q12 from \"Bashir\" to \"Peer-Mentor\"\n",
    "pps_L[42]=\"Peer-Mentor\"\n",
    "print(\"Peer-Mentor\" in pps_L)\n",
    "pps_L.index(\"Peer-Mentor\")"
   ]
  }
 ],
 "metadata": {
  "kernelspec": {
   "display_name": "Python 3",
   "language": "python",
   "name": "python3"
  },
  "language_info": {
   "codemirror_mode": {
    "name": "ipython",
    "version": 3
   },
   "file_extension": ".py",
   "mimetype": "text/x-python",
   "name": "python",
   "nbconvert_exporter": "python",
   "pygments_lexer": "ipython3",
   "version": "3.8.8"
  }
 },
 "nbformat": 4,
 "nbformat_minor": 5
}
